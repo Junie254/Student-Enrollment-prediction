{
  "nbformat": 4,
  "nbformat_minor": 0,
  "metadata": {
    "colab": {
      "provenance": [],
      "authorship_tag": "ABX9TyNs+2moS73v3K7inskXgbrA",
      "include_colab_link": true
    },
    "kernelspec": {
      "name": "python3",
      "display_name": "Python 3"
    },
    "language_info": {
      "name": "python"
    }
  },
  "cells": [
    {
      "cell_type": "markdown",
      "metadata": {
        "id": "view-in-github",
        "colab_type": "text"
      },
      "source": [
        "<a href=\"https://colab.research.google.com/github/Junie254/Student-Enrollment-prediction/blob/main/Untitled5.ipynb\" target=\"_parent\"><img src=\"https://colab.research.google.com/assets/colab-badge.svg\" alt=\"Open In Colab\"/></a>"
      ]
    },
    {
      "cell_type": "code",
      "execution_count": null,
      "metadata": {
        "colab": {
          "base_uri": "https://localhost:8080/"
        },
        "id": "I34UPxT5OJOQ",
        "outputId": "59c91529-97f3-497b-f2d2-982ec905616a"
      },
      "outputs": [
        {
          "output_type": "stream",
          "name": "stdout",
          "text": [
            "Evaluation Metrics:\n",
            "Accuracy: 0.5733\n",
            "Precision: 0.6109\n",
            "Recall: 0.7627\n",
            "F1 Score: 0.6784\n",
            "ROC-AUC: 0.4835\n",
            "Model saved at student_enrollment_model.pkl\n",
            "Dataset saved at student_data.csv\n"
          ]
        }
      ],
      "source": [
        "# Import necessary libraries\n",
        "import pandas as pd\n",
        "import numpy as np\n",
        "import os\n",
        "from sklearn.model_selection import train_test_split, GridSearchCV\n",
        "from sklearn.ensemble import RandomForestClassifier\n",
        "from sklearn.preprocessing import StandardScaler, LabelEncoder\n",
        "from sklearn.metrics import accuracy_score, precision_score, recall_score, f1_score, roc_auc_score\n",
        "from sklearn.pipeline import Pipeline\n",
        "import pickle\n",
        "\n",
        "# Step 1: Generate synthetic dataset (simulate student data)\n",
        "np.random.seed(42)\n",
        "\n",
        "# Simulate 1000 rows of student data\n",
        "data = pd.DataFrame({\n",
        "    'GPA': np.random.uniform(2.0, 4.0, 1000),  # GPA range between 2.0 and 4.0\n",
        "    'Attendance_Rate': np.random.uniform(50, 100, 1000),  # Attendance rate in percentage\n",
        "    'Parental_Education': np.random.choice(['High School', 'Bachelor', 'Master', 'PhD'], 1000),\n",
        "    'Socioeconomic_Status': np.random.choice(['Low', 'Middle', 'High'], 1000),\n",
        "    'Test_Scores': np.random.uniform(60, 100, 1000),  # Test scores out of 100\n",
        "    'Enrolled': np.random.choice([0, 1], 1000, p=[0.4, 0.6])  # Binary target variable (enrolled or not)\n",
        "})\n",
        "\n",
        "# Step 2: Preprocess the data\n",
        "# Encode categorical variables\n",
        "label_encoders = {}\n",
        "for col in ['Parental_Education', 'Socioeconomic_Status']:\n",
        "    le = LabelEncoder()\n",
        "    data[col] = le.fit_transform(data[col])\n",
        "    label_encoders[col] = le\n",
        "\n",
        "# Separate features and target\n",
        "X = data.drop('Enrolled', axis=1)\n",
        "y = data['Enrolled']\n",
        "\n",
        "# Split into training and testing sets\n",
        "X_train, X_test, y_train, y_test = train_test_split(X, y, test_size=0.3, random_state=42, stratify=y)\n",
        "\n",
        "# Step 3: Create and train the model pipeline\n",
        "pipeline = Pipeline([\n",
        "    ('scaler', StandardScaler()),  # Scale the data\n",
        "    ('classifier', RandomForestClassifier(random_state=42))  # Random Forest Classifier\n",
        "])\n",
        "\n",
        "# Hyperparameter tuning\n",
        "param_grid = {\n",
        "    'classifier__n_estimators': [100, 200, 300],\n",
        "    'classifier__max_depth': [None, 10, 20, 30],\n",
        "    'classifier__min_samples_split': [2, 5, 10],\n",
        "    'classifier__min_samples_leaf': [1, 2, 4]\n",
        "}\n",
        "\n",
        "grid_search = GridSearchCV(pipeline, param_grid, cv=5, scoring='roc_auc', n_jobs=-1)\n",
        "grid_search.fit(X_train, y_train)\n",
        "\n",
        "# Best model\n",
        "best_model = grid_search.best_estimator_\n",
        "\n",
        "# Step 4: Evaluate the model\n",
        "y_pred = best_model.predict(X_test)\n",
        "evaluation_metrics = {\n",
        "    \"Accuracy\": accuracy_score(y_test, y_pred),\n",
        "    \"Precision\": precision_score(y_test, y_pred),\n",
        "    \"Recall\": recall_score(y_test, y_pred),\n",
        "    \"F1 Score\": f1_score(y_test, y_pred),\n",
        "    \"ROC-AUC\": roc_auc_score(y_test, best_model.predict_proba(X_test)[:, 1])\n",
        "}\n",
        "\n",
        "# Display evaluation metrics\n",
        "print(\"Evaluation Metrics:\")\n",
        "for metric, value in evaluation_metrics.items():\n",
        "    print(f\"{metric}: {value:.4f}\")\n",
        "\n",
        "# Step 5: Save the model\n",
        "model_path = \"student_enrollment_model.pkl\"  # Save locally\n",
        "with open(model_path, 'wb') as f:\n",
        "    pickle.dump(best_model, f)\n",
        "\n",
        "print(f\"Model saved at {model_path}\")\n",
        "\n",
        "# Optional: Save the dataset as a CSV file for reference\n",
        "data_path = \"student_data.csv\"\n",
        "data.to_csv(data_path, index=False)\n",
        "print(f\"Dataset saved at {data_path}\")\n"
      ]
    }
  ]
}